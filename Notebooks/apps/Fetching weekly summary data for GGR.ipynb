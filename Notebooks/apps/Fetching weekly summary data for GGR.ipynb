{
 "cells": [
  {
   "attachments": {},
   "cell_type": "markdown",
   "metadata": {},
   "source": [
    "In this notebook I will look to fetch the weekly GGR totals across domain and sports.\n",
    "\n",
    "### Imports"
   ]
  },
  {
   "cell_type": "code",
   "execution_count": 3,
   "metadata": {},
   "outputs": [],
   "source": [
    "import os\n",
    "os.chdir(\"../..\")"
   ]
  },
  {
   "cell_type": "code",
   "execution_count": 5,
   "metadata": {},
   "outputs": [],
   "source": [
    "import pandas as pd\n",
    "import ipywidgets as widgets\n",
    "from IPython.display import display\n",
    "from src.bigquery.functions import bq_query"
   ]
  },
  {
   "attachments": {},
   "cell_type": "markdown",
   "metadata": {},
   "source": [
    "### LiveSCore group bets"
   ]
  },
  {
   "cell_type": "code",
   "execution_count": 6,
   "metadata": {},
   "outputs": [],
   "source": [
    "startDate = \"2023-04-01\"\n",
    "endDate = \"2023-04-27\""
   ]
  },
  {
   "cell_type": "code",
   "execution_count": 7,
   "metadata": {},
   "outputs": [],
   "source": [
    "bets_query = f\"\"\"\n",
    "-- Set timeframe\n",
    "DECLARE startDate date;\n",
    "DECLARE endDate date;\n",
    "SET startDate = \"{startDate}\";\n",
    "SET endDate = \"{endDate}\";\n",
    "\n",
    "-- Bets from 1st April (all brands ie VB and LS)\n",
    "\n",
    "WITH vb_bets AS ( -- Grab all VB bets from 1st April\n",
    "  SELECT\n",
    "    betID\n",
    "    ,purchaseBetID\n",
    "    ,relatedToBetID\n",
    "    ,vb_betsnap.userID\n",
    "    ,isTest\n",
    "    ,CASE\n",
    "      WHEN vb_betsnap.domain LIKE 'VirginBet%' THEN 'VB'\n",
    "      ELSE 'NOT VB'\n",
    "    END as domain\n",
    "    ,provider\n",
    "    ,vb_betsnap.lastSettlementDateTime as lastSettlementDateTime\n",
    "    ,lastSettlementDate\n",
    "    ,DATE_SUB(lastSettlementDate, INTERVAL CAST(FORMAT_DATE('%u', lastSettlementDate) AS INT) -1 DAY) as week_commencing\n",
    "    ,betType\n",
    "    ,betSubType\n",
    "    ,betGroup\n",
    "    ,betCategory\n",
    "    ,s.event.sport as Sport -- NB betSport is not used as this includes Mixed Sports which obviously effects dividing GGR per sport\n",
    "    ,betCount\n",
    "    ,betOddsPlaced\n",
    "    ,betOddsApplied\n",
    "    ,s.relGGR.GBP AS rel_GGR_GBP --NB Not using 'GGR.GBP as GGR_GBP' due to acca's\n",
    "  FROM `gamesys-eu-live-sbtech-data.sb_tech_presentation.BetSnapshot` as vb_betsnap\n",
    "  CROSS JOIN UNNEST(selections) AS s\n",
    "  LEFT JOIN `gamesys-eu-live-sbtech-data.sb_tech_presentation.User` as vb_users ON vb_betsnap.userID = vb_users.userID\n",
    "  WHERE 1=1\n",
    "    AND\n",
    "    lastSettlementDate >= startDate\n",
    "    AND\n",
    "    lastSettlementDate <= endDate\n",
    "    AND\n",
    "    vb_betsnap.domain LIKE 'VirginBet%'\n",
    "    AND\n",
    "    isTest IS FALSE\n",
    "\n",
    ")\n",
    "\n",
    ", ls_bets AS ( -- Grab all LS bets from 1st April\n",
    "  SELECT\n",
    "    betID\n",
    "    ,purchaseBetID\n",
    "    ,relatedToBetID\n",
    "    ,ls_betsnap.userID\n",
    "    ,isTest\n",
    "    ,ls_betsnap.domain\n",
    "    ,provider\n",
    "    ,ls_betsnap.lastSettlementDateTime as lastSettlementDateTime\n",
    "    ,lastSettlementDate\n",
    "    ,DATE_SUB(lastSettlementDate, INTERVAL CAST(FORMAT_DATE('%u', lastSettlementDate) AS INT) -1 DAY) as week_commencing\n",
    "    ,betType\n",
    "    ,betSubType\n",
    "    ,betGroup\n",
    "    ,betCategory\n",
    "    ,s.event.sport as Sport -- NB betSport is not used as this includes Mixed Sports which obviously effects dividing GGR per sport,betSport\n",
    "    ,betCount\n",
    "    ,betOddsPlaced\n",
    "    ,betOddsApplied\n",
    "    ,s.relGGR.GBP AS rel_GGR_GBP --NB Not using 'GGR.GBP as GGR_GBP' due to acca's\n",
    "  FROM `ls-africa-data-eu-live.lithium_warehouse.BetSnapshot` AS ls_betsnap\n",
    "  CROSS JOIN UNNEST(selections) AS s\n",
    "  LEFT JOIN `ls-africa-data-eu-live.lithium_warehouse.User` AS ls_users ON ls_betsnap.userID = ls_users.userID\n",
    "  WHERE 1=1\n",
    "    AND\n",
    "    lastSettlementDate >= startDate\n",
    "    AND\n",
    "    lastSettlementDate <= endDate\n",
    "    AND\n",
    "    ls_betsnap.domain LIKE 'LiveScore%'\n",
    "    AND\n",
    "    isTest IS FALSE\n",
    ")\n",
    "\n",
    ", lsg_bets AS ( -- lsg - LiveScore Group\n",
    "  SELECT \n",
    "    *\n",
    "  FROM vb_bets\n",
    "\n",
    "  UNION ALL\n",
    "\n",
    "  SELECT \n",
    "    *\n",
    "  FROM ls_bets\n",
    "\n",
    ")\n",
    "\n",
    "SELECT * FROM lsg_bets\n",
    "\"\"\""
   ]
  },
  {
   "cell_type": "code",
   "execution_count": 8,
   "metadata": {},
   "outputs": [
    {
     "name": "stderr",
     "output_type": "stream",
     "text": [
      "c:\\Users\\james.lai\\OneDrive - AnzoGroup\\Documents\\code\\personal_repo\\.venv\\Lib\\site-packages\\google\\auth\\_default.py:78: UserWarning: Your application has authenticated using end user credentials from Google Cloud SDK without a quota project. You might receive a \"quota exceeded\" or \"API not enabled\" error. See the following page for troubleshooting: https://cloud.google.com/docs/authentication/adc-troubleshooting/user-creds. \n",
      "  warnings.warn(_CLOUD_SDK_CREDENTIALS_WARNING)\n"
     ]
    }
   ],
   "source": [
    "bets_df = bq_query(bets_query)"
   ]
  },
  {
   "attachments": {},
   "cell_type": "markdown",
   "metadata": {},
   "source": [
    "### Format data to weekly summary"
   ]
  },
  {
   "cell_type": "code",
   "execution_count": 29,
   "metadata": {},
   "outputs": [],
   "source": [
    "weekly_summary_df = (\n",
    "    bets_df\n",
    "    .groupby(['week_commencing','domain','Sport'])\n",
    "    .agg({'rel_GGR_GBP':['sum']})\n",
    "    .reset_index()\n",
    ")\n",
    "weekly_summary_df.columns = ['week_commencing', 'domain', 'sport', 'total_GGR']\n",
    "\n",
    "weekly_summary_df = weekly_summary_df.sort_values(\n",
    "    by = ['week_commencing', 'total_GGR', 'sport'],\n",
    "    ascending = [True, False, True]\n",
    ")"
   ]
  },
  {
   "attachments": {},
   "cell_type": "markdown",
   "metadata": {},
   "source": [
    "### Dataframe filter"
   ]
  },
  {
   "cell_type": "code",
   "execution_count": 24,
   "metadata": {},
   "outputs": [
    {
     "data": {
      "text/plain": [
       "[datetime.date(2023, 3, 27),\n",
       " datetime.date(2023, 4, 3),\n",
       " datetime.date(2023, 4, 10),\n",
       " datetime.date(2023, 4, 17),\n",
       " datetime.date(2023, 4, 24)]"
      ]
     },
     "execution_count": 24,
     "metadata": {},
     "output_type": "execute_result"
    }
   ],
   "source": [
    "import numpy as np\n",
    "weekly_summary_df.week_commencing.unique().tolist()"
   ]
  },
  {
   "cell_type": "code",
   "execution_count": 25,
   "metadata": {},
   "outputs": [
    {
     "data": {
      "application/vnd.jupyter.widget-view+json": {
       "model_id": "31a54d63c31e45fe976be8c347284982",
       "version_major": 2,
       "version_minor": 0
      },
      "text/plain": [
       "Dropdown(options=('ALL', datetime.date(2023, 3, 27), datetime.date(2023, 4, 3), datetime.date(2023, 4, 10), da…"
      ]
     },
     "metadata": {},
     "output_type": "display_data"
    }
   ],
   "source": [
    "ALL = 'ALL' # All option used so that all filters can be removed\n",
    "\n",
    "# function get year list\n",
    "def filter_list(input_list):\n",
    "    filter_list = ['ALL'] + input_list\n",
    "    return filter_list\n",
    "\n",
    "# Now we will initialise the dropdown:\n",
    "dropdown_weeks = widgets.Dropdown(options = filter_list(weekly_summary_df.week_commencing.unique().tolist()))\n",
    "\n",
    "# create a new instance of Output\n",
    "output_week = widgets.Output()\n",
    "\n",
    "def dropdown_weeks_eventhandler(change):\n",
    "    output_week.clear_output()\n",
    "    with output_week:\n",
    "        if (change.new == ALL):\n",
    "            display(weekly_summary_df)\n",
    "        else:\n",
    "            display(weekly_summary_df.loc[lambda dfr_: dfr_.week_commencing == change.new])\n",
    "\n",
    "# We will then bind the handler to the dropdown:\n",
    "dropdown_weeks.observe( dropdown_weeks_eventhandler, names='value')\n",
    "\n",
    "display(dropdown_weeks)"
   ]
  },
  {
   "cell_type": "code",
   "execution_count": 28,
   "metadata": {},
   "outputs": [
    {
     "data": {
      "application/vnd.jupyter.widget-view+json": {
       "model_id": "fdd6a59001ce4bdbad2878c765ddb11c",
       "version_major": 2,
       "version_minor": 0
      },
      "text/plain": [
       "Output(outputs=({'output_type': 'display_data', 'data': {'text/plain': '    week_commencing          domain   …"
      ]
     },
     "metadata": {},
     "output_type": "display_data"
    }
   ],
   "source": [
    "display(output_week)"
   ]
  }
 ],
 "metadata": {
  "kernelspec": {
   "display_name": ".venv",
   "language": "python",
   "name": "python3"
  },
  "language_info": {
   "codemirror_mode": {
    "name": "ipython",
    "version": 3
   },
   "file_extension": ".py",
   "mimetype": "text/x-python",
   "name": "python",
   "nbconvert_exporter": "python",
   "pygments_lexer": "ipython3",
   "version": "3.11.3"
  },
  "orig_nbformat": 4
 },
 "nbformat": 4,
 "nbformat_minor": 2
}
